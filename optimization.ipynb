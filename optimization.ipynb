{
 "cells": [
  {
   "cell_type": "code",
   "execution_count": 6,
   "metadata": {},
   "outputs": [],
   "source": [
    "import math\n",
    "import os\n",
    "import subprocess\n",
    "import time\n",
    "import scipy\n",
    "import matplotlib.pyplot as plt\n",
    "from matplotlib import cm\n",
    "import numpy as np\n",
    "import pandas as pd\n",
    "import itertools\n",
    "import pickle\n",
    "from tabulate import tabulate\n",
    "from g4beam import *\n",
    "from tqdm import *\n",
    "from skopt import gp_minimize\n",
    "import os"
   ]
  },
  {
   "cell_type": "code",
   "execution_count": 2,
   "metadata": {},
   "outputs": [
    {
     "name": "stdout",
     "output_type": "stream",
     "text": [
      "/Applications/G4beamline-3.08.app/Contents/MacOS\n",
      "['G4_PhaseRotation.g4bl', 'g4blgui', 'g4bl', 'g4bl-setup.csh', 'G4_RFCavity.g4bl', 'g4bldata', '__pycache__', 'g4beam.py', 'g4bl-setup.sh', 'g4blmpi', 'g4bltest', 'G4_FinalCooling_auto.g4bl', 'optimization.ipynb']\n"
     ]
    }
   ],
   "source": [
    "\n",
    "print(os.getcwd())  # Print current working directory\n",
    "print(os.listdir())"
   ]
  },
  {
   "cell_type": "code",
   "execution_count": 2,
   "metadata": {},
   "outputs": [
    {
     "name": "stdout",
     "output_type": "stream",
     "text": [
      "              x         y  z         Px         Py          Pz         t  \\\n",
      "0     -1.982111 -1.950369  0   1.074455  14.527436   99.541046  0.245016   \n",
      "1      1.239184  0.509172  0   4.106762   0.442134   99.332191  1.542012   \n",
      "2      1.945728  3.346722  0  -1.377757   6.277505   98.511125 -0.195274   \n",
      "3     -1.253275  2.856149  0  -5.268241  -5.381841   98.711529  0.646873   \n",
      "4     -1.491126  0.168799  0   9.119859  -5.338006  100.979074 -0.502814   \n",
      "...         ...       ... ..        ...        ...         ...       ...   \n",
      "19995 -0.632299 -0.185436  0  14.802538   0.396076  101.727363 -0.024909   \n",
      "19996 -0.519477  0.098044  0  -6.513484 -10.903833   96.949904  0.724136   \n",
      "19997 -3.373118  5.625175  0   2.162149 -24.674827   95.870427 -2.287693   \n",
      "19998  1.469223  1.541426  0 -15.836759  -2.712258   99.138512 -0.628894   \n",
      "19999 -0.523544  0.898779  0   2.369654   1.103197   99.683810  1.393013   \n",
      "\n",
      "       PDGid  EventID  TrackID  ...  ProperTime  PathLength PolX PolY PolZ  \\\n",
      "0        -13        1        1  ...         NaN         NaN  NaN  NaN  NaN   \n",
      "1        -13        2        1  ...         NaN         NaN  NaN  NaN  NaN   \n",
      "2        -13        3        1  ...         NaN         NaN  NaN  NaN  NaN   \n",
      "3        -13        4        1  ...         NaN         NaN  NaN  NaN  NaN   \n",
      "4        -13        5        1  ...         NaN         NaN  NaN  NaN  NaN   \n",
      "...      ...      ...      ...  ...         ...         ...  ...  ...  ...   \n",
      "19995    -13    19996        1  ...         NaN         NaN  NaN  NaN  NaN   \n",
      "19996    -13    19997        1  ...         NaN         NaN  NaN  NaN  NaN   \n",
      "19997    -13    19998        1  ...         NaN         NaN  NaN  NaN  NaN   \n",
      "19998    -13    19999        1  ...         NaN         NaN  NaN  NaN  NaN   \n",
      "19999    -13    20000        1  ...         NaN         NaN  NaN  NaN  NaN   \n",
      "\n",
      "      InitX InitY InitZ InitT InitKE  \n",
      "0       NaN   NaN   NaN   NaN    NaN  \n",
      "1       NaN   NaN   NaN   NaN    NaN  \n",
      "2       NaN   NaN   NaN   NaN    NaN  \n",
      "3       NaN   NaN   NaN   NaN    NaN  \n",
      "4       NaN   NaN   NaN   NaN    NaN  \n",
      "...     ...   ...   ...   ...    ...  \n",
      "19995   NaN   NaN   NaN   NaN    NaN  \n",
      "19996   NaN   NaN   NaN   NaN    NaN  \n",
      "19997   NaN   NaN   NaN   NaN    NaN  \n",
      "19998   NaN   NaN   NaN   NaN    NaN  \n",
      "19999   NaN   NaN   NaN   NaN    NaN  \n",
      "\n",
      "[20000 rows x 28 columns]\n",
      "-----------------------------\n",
      "Twiss parameters for X\n",
      "emit  = 0.14389770096624077 mm\n",
      "beta  = 0.030060957409469777 m\n",
      "gamma = 49.16121735367511 1/m\n",
      "alpha = 0.6912548452390868\n",
      "D     = 0.002808134530016788 m\n",
      "D'    = -0.0668613033780918\n",
      "\n",
      "Twiss parameters for Y\n",
      "emit  = 0.14399384618067862 mm\n",
      "beta  = 0.030145312435104325 m\n",
      "gamma = 49.29914140747832 1/m\n",
      "alpha = 0.6972359862419771\n",
      "D     = -0.002877009678445278 m\n",
      "D'    = 0.12153398117859378\n",
      "\n",
      "Z-emittance:  1.2545979106462806 mm\n",
      "Z std: 153.92212816302938 mm\n",
      "p std: 0.9994481806689408 MeV/c\n",
      "Mean momentum: 100.00252420696332 MeV/c\n",
      "-----------------------------\n"
     ]
    }
   ],
   "source": [
    "t_emit = 0.145  # mm\n",
    "momentum = 100  # MeV/c\n",
    "beta = 0.03    # m\n",
    "alpha = 0.7     # dimensionless\n",
    "l_emit = 1      # mm\n",
    "pz_std = 1    # MeV/c\n",
    "vd_dist = 24    # mm\n",
    "\n",
    "pre_w1 = gen_distribution((beta, alpha, t_emit, 0, 0), (beta, alpha, t_emit, 0, 0), momentum, pz_std, z_emit=l_emit, N=20000)\n",
    "pre_w1[\"PDGid\"] = -13\n",
    "print(pre_w1)\n",
    "print_all_params(pre_w1)"
   ]
  },
  {
   "cell_type": "code",
   "execution_count": 4,
   "metadata": {},
   "outputs": [
    {
     "name": "stdout",
     "output_type": "stream",
     "text": [
      "iter value\n",
      "  36 4.11863e-02\n",
      "Length = 6.96 mm\n",
      "Angle = 46.8 deg\n",
      "Time spent: 608.2452070713043\n",
      "-----------------------------\n",
      "Twiss parameters for X\n",
      "emit  = 0.04414344402600207 mm\n",
      "beta  = 0.035951219227144615 m\n",
      "gamma = 193.5389900884439 1/m\n",
      "alpha = -2.440893824333581\n",
      "D     = 0.0205257924558626 m\n",
      "D'    = -0.04911571011631675\n",
      "\n",
      "Twiss parameters for Y\n",
      "emit  = 0.15011674642211947 mm\n",
      "beta  = 0.02545238415577693 m\n",
      "gamma = 57.431895139937595 1/m\n",
      "alpha = -0.6795429772251271\n",
      "D     = 0.00021431655341890956 m\n",
      "D'    = 0.014778416569957186\n",
      "\n",
      "Z-emittance:  6.3167805243099515 mm\n",
      "Z std: 143.1292816233489 mm\n",
      "p std: 7.0717934754390175 MeV/c\n",
      "Mean momentum: 88.1644093691325 MeV/c\n",
      "-----------------------------\n",
      "-----------------------------\n",
      "Twiss parameters for X\n",
      "emit  = 0.04118634672947639 mm\n",
      "beta  = 0.03636122277702757 m\n",
      "gamma = 199.78403402197287 1/m\n",
      "alpha = -2.5028766985942816\n",
      "D     = 0.02060860513216294 m\n",
      "D'    = -0.05890123128134734\n",
      "\n",
      "Twiss parameters for Y\n",
      "emit  = 0.14761007978980617 mm\n",
      "beta  = 0.025357775652671645 m\n",
      "gamma = 56.74387160715575 1/m\n",
      "alpha = -0.6624940496927195\n",
      "D     = 0.0002167391787554917 m\n",
      "D'    = 0.011189855548783243\n",
      "\n",
      "Z-emittance:  6.175666994085998 mm\n",
      "Z std: 143.13630504347336 mm\n",
      "p std: 6.9780741592301725 MeV/c\n",
      "Mean momentum: 88.2167651539923 MeV/c\n",
      "-----------------------------\n"
     ]
    }
   ],
   "source": [
    "# Function to optimize\n",
    "def func(x):\n",
    "    length, angle = x\n",
    "    return emittances(cut_outliers(run_distribution(pre_w1, length, angle, vd_dist, axis=0)))[0]\n",
    "\n",
    "start = time.time()\n",
    "# Run optimization\n",
    "optim_result = minimize(func, [7.5, 45], method=\"Nelder-Mead\", bounds=((1, 10), (30, 70)), options=dict(fatol=1e-6))\n",
    "\n",
    "# Get results\n",
    "w1_length, w1_angle = optim_result.x\n",
    "print(f\"Length = {w1_length:.2f} mm\\nAngle = {w1_angle:.1f} deg\")\n",
    "print(\"Time spent:\", time.time()-start)\n",
    "\n",
    "# Runs a single case with the optimal parameters\n",
    "post_w1 = run_distribution(pre_w1, w1_length, w1_angle, vd_dist, axis=0)\n",
    "print_all_params(post_w1)\n",
    "print_all_params(cut_outliers(post_w1))"
   ]
  },
  {
   "cell_type": "code",
   "execution_count": 5,
   "metadata": {},
   "outputs": [
    {
     "name": "stdout",
     "output_type": "stream",
     "text": [
      "-----------------------------\n",
      "Twiss parameters for X\n",
      "emit  = 0.044120759330828076 mm\n",
      "beta  = 0.03596930704629806 m\n",
      "gamma = 193.61302197769666 1/m\n",
      "alpha = -2.4421560629241994\n",
      "D     = -9.636562785294193e-06 m\n",
      "D'    = -0.0015589353132289278\n",
      "\n",
      "Twiss parameters for Y\n",
      "emit  = 0.1501136365342665 mm\n",
      "beta  = 0.025452638635622925 m\n",
      "gamma = 57.43137385906625 1/m\n",
      "alpha = -0.6795439685422674\n",
      "D     = 2.5372455528655263e-06 m\n",
      "D'    = 0.00035007456388579886\n",
      "\n",
      "Z-emittance:  6.316717063590288 mm\n",
      "Z std: 143.1285683576137 mm\n",
      "p std: 7.0697895360768985 MeV/c\n",
      "Mean momentum: 88.16346518498571 MeV/c\n",
      "-----------------------------\n"
     ]
    }
   ],
   "source": [
    "# Calculate dispersion correction\n",
    "post_correct = remove_dispersion(post_w1)\n",
    "print_all_params(post_correct)\n",
    "\n",
    "# Ignore transverse momentums\n",
    "no_transverse = remove_transverse(post_correct)\n",
    "\n",
    "# Reverse transverse momentums in saved copy\n",
    "reverse_transverse = post_correct.copy(deep=True)\n",
    "reverse_transverse[\"Px\"] *= -1\n",
    "reverse_transverse[\"Py\"] *= -1"
   ]
  },
  {
   "cell_type": "code",
   "execution_count": 3,
   "metadata": {},
   "outputs": [
    {
     "name": "stdout",
     "output_type": "stream",
     "text": [
      "iter value\n"
     ]
    },
    {
     "ename": "NameError",
     "evalue": "name 'no_transverse' is not defined",
     "output_type": "error",
     "traceback": [
      "\u001b[0;31m---------------------------------------------------------------------------\u001b[0m",
      "\u001b[0;31mNameError\u001b[0m                                 Traceback (most recent call last)",
      "Cell \u001b[0;32mIn[3], line 15\u001b[0m\n\u001b[1;32m     12\u001b[0m     \u001b[38;5;28;01mreturn\u001b[39;00m np\u001b[38;5;241m.\u001b[39mstd(p_total(cut_pz(pre_w2)))\n\u001b[1;32m     14\u001b[0m \u001b[38;5;66;03m# Run optimization\u001b[39;00m\n\u001b[0;32m---> 15\u001b[0m optim_result \u001b[38;5;241m=\u001b[39m \u001b[43mminimize\u001b[49m\u001b[43m(\u001b[49m\u001b[43mfunc\u001b[49m\u001b[43m,\u001b[49m\u001b[43m \u001b[49m\u001b[43m[\u001b[49m\u001b[38;5;241;43m0\u001b[39;49m\u001b[43m,\u001b[49m\u001b[43m \u001b[49m\u001b[38;5;241;43m4700\u001b[39;49m\u001b[43m,\u001b[49m\u001b[43m \u001b[49m\u001b[38;5;241;43m7\u001b[39;49m\u001b[43m]\u001b[49m\u001b[43m,\u001b[49m\u001b[43m \u001b[49m\u001b[43mmethod\u001b[49m\u001b[38;5;241;43m=\u001b[39;49m\u001b[38;5;124;43m\"\u001b[39;49m\u001b[38;5;124;43mNelder-Mead\u001b[39;49m\u001b[38;5;124;43m\"\u001b[39;49m\u001b[43m,\u001b[49m\u001b[43m \u001b[49m\u001b[43mbounds\u001b[49m\u001b[38;5;241;43m=\u001b[39;49m\u001b[43m(\u001b[49m\u001b[43m(\u001b[49m\u001b[38;5;241;43m-\u001b[39;49m\u001b[38;5;241;43m90\u001b[39;49m\u001b[43m,\u001b[49m\u001b[43m \u001b[49m\u001b[38;5;241;43m90\u001b[39;49m\u001b[43m)\u001b[49m\u001b[43m,\u001b[49m\u001b[43m \u001b[49m\u001b[43m(\u001b[49m\u001b[38;5;241;43m2000\u001b[39;49m\u001b[43m,\u001b[49m\u001b[43m \u001b[49m\u001b[38;5;241;43m6000\u001b[39;49m\u001b[43m)\u001b[49m\u001b[43m,\u001b[49m\u001b[43m \u001b[49m\u001b[43m(\u001b[49m\u001b[38;5;241;43m1\u001b[39;49m\u001b[43m,\u001b[49m\u001b[43m \u001b[49m\u001b[38;5;241;43m10\u001b[39;49m\u001b[43m)\u001b[49m\u001b[43m)\u001b[49m\u001b[43m,\u001b[49m\u001b[43m \u001b[49m\u001b[43moptions\u001b[49m\u001b[38;5;241;43m=\u001b[39;49m\u001b[38;5;28;43mdict\u001b[39;49m\u001b[43m(\u001b[49m\u001b[43mfatol\u001b[49m\u001b[38;5;241;43m=\u001b[39;49m\u001b[38;5;241;43m1e-6\u001b[39;49m\u001b[43m)\u001b[49m\u001b[43m)\u001b[49m\n\u001b[1;32m     17\u001b[0m \u001b[38;5;66;03m# Get results\u001b[39;00m\n\u001b[1;32m     18\u001b[0m rf_phase, rf_length, rf_grad \u001b[38;5;241m=\u001b[39m optim_result\u001b[38;5;241m.\u001b[39mx\n",
      "File \u001b[0;32m/Applications/G4beamline-3.08.app/Contents/MacOS/g4beam.py:741\u001b[0m, in \u001b[0;36mminimize\u001b[0;34m(func, start, **kwargs)\u001b[0m\n\u001b[1;32m    738\u001b[0m     \u001b[38;5;28mprint\u001b[39m(\u001b[38;5;124mf\u001b[39m\u001b[38;5;124m\"\u001b[39m\u001b[38;5;132;01m{\u001b[39;00mnum_iter\u001b[38;5;132;01m:\u001b[39;00m\u001b[38;5;124m4\u001b[39m\u001b[38;5;132;01m}\u001b[39;00m\u001b[38;5;124m \u001b[39m\u001b[38;5;132;01m{\u001b[39;00mintermediate_result\u001b[38;5;241m.\u001b[39mfun\u001b[38;5;132;01m:\u001b[39;00m\u001b[38;5;124m.5e\u001b[39m\u001b[38;5;132;01m}\u001b[39;00m\u001b[38;5;124m\"\u001b[39m, end\u001b[38;5;241m=\u001b[39m\u001b[38;5;124m\"\u001b[39m\u001b[38;5;130;01m\\r\u001b[39;00m\u001b[38;5;124m\"\u001b[39m)\n\u001b[1;32m    740\u001b[0m \u001b[38;5;28mprint\u001b[39m(\u001b[38;5;124m\"\u001b[39m\u001b[38;5;124miter value\u001b[39m\u001b[38;5;124m\"\u001b[39m)\n\u001b[0;32m--> 741\u001b[0m result \u001b[38;5;241m=\u001b[39m \u001b[43mscipy\u001b[49m\u001b[38;5;241;43m.\u001b[39;49m\u001b[43moptimize\u001b[49m\u001b[38;5;241;43m.\u001b[39;49m\u001b[43mminimize\u001b[49m\u001b[43m(\u001b[49m\u001b[43mfunc\u001b[49m\u001b[43m,\u001b[49m\u001b[43m \u001b[49m\u001b[43mstart\u001b[49m\u001b[43m,\u001b[49m\u001b[43m \u001b[49m\u001b[43mcallback\u001b[49m\u001b[38;5;241;43m=\u001b[39;49m\u001b[43mcallback\u001b[49m\u001b[43m,\u001b[49m\u001b[43m \u001b[49m\u001b[38;5;241;43m*\u001b[39;49m\u001b[38;5;241;43m*\u001b[39;49m\u001b[43mkwargs\u001b[49m\u001b[43m)\u001b[49m\n\u001b[1;32m    742\u001b[0m \u001b[38;5;28mprint\u001b[39m()\n\u001b[1;32m    743\u001b[0m \u001b[38;5;28;01mreturn\u001b[39;00m result\n",
      "File \u001b[0;32m/Library/Frameworks/Python.framework/Versions/3.12/lib/python3.12/site-packages/scipy/optimize/_minimize.py:701\u001b[0m, in \u001b[0;36mminimize\u001b[0;34m(fun, x0, args, method, jac, hess, hessp, bounds, constraints, tol, callback, options)\u001b[0m\n\u001b[1;32m    698\u001b[0m callback \u001b[38;5;241m=\u001b[39m _wrap_callback(callback, meth)\n\u001b[1;32m    700\u001b[0m \u001b[38;5;28;01mif\u001b[39;00m meth \u001b[38;5;241m==\u001b[39m \u001b[38;5;124m'\u001b[39m\u001b[38;5;124mnelder-mead\u001b[39m\u001b[38;5;124m'\u001b[39m:\n\u001b[0;32m--> 701\u001b[0m     res \u001b[38;5;241m=\u001b[39m \u001b[43m_minimize_neldermead\u001b[49m\u001b[43m(\u001b[49m\u001b[43mfun\u001b[49m\u001b[43m,\u001b[49m\u001b[43m \u001b[49m\u001b[43mx0\u001b[49m\u001b[43m,\u001b[49m\u001b[43m \u001b[49m\u001b[43margs\u001b[49m\u001b[43m,\u001b[49m\u001b[43m \u001b[49m\u001b[43mcallback\u001b[49m\u001b[43m,\u001b[49m\u001b[43m \u001b[49m\u001b[43mbounds\u001b[49m\u001b[38;5;241;43m=\u001b[39;49m\u001b[43mbounds\u001b[49m\u001b[43m,\u001b[49m\n\u001b[1;32m    702\u001b[0m \u001b[43m                               \u001b[49m\u001b[38;5;241;43m*\u001b[39;49m\u001b[38;5;241;43m*\u001b[39;49m\u001b[43moptions\u001b[49m\u001b[43m)\u001b[49m\n\u001b[1;32m    703\u001b[0m \u001b[38;5;28;01melif\u001b[39;00m meth \u001b[38;5;241m==\u001b[39m \u001b[38;5;124m'\u001b[39m\u001b[38;5;124mpowell\u001b[39m\u001b[38;5;124m'\u001b[39m:\n\u001b[1;32m    704\u001b[0m     res \u001b[38;5;241m=\u001b[39m _minimize_powell(fun, x0, args, callback, bounds, \u001b[38;5;241m*\u001b[39m\u001b[38;5;241m*\u001b[39moptions)\n",
      "File \u001b[0;32m/Library/Frameworks/Python.framework/Versions/3.12/lib/python3.12/site-packages/scipy/optimize/_optimize.py:818\u001b[0m, in \u001b[0;36m_minimize_neldermead\u001b[0;34m(func, x0, args, callback, maxiter, maxfev, disp, return_all, initial_simplex, xatol, fatol, adaptive, bounds, **unknown_options)\u001b[0m\n\u001b[1;32m    816\u001b[0m \u001b[38;5;28;01mtry\u001b[39;00m:\n\u001b[1;32m    817\u001b[0m     \u001b[38;5;28;01mfor\u001b[39;00m k \u001b[38;5;129;01min\u001b[39;00m \u001b[38;5;28mrange\u001b[39m(N \u001b[38;5;241m+\u001b[39m \u001b[38;5;241m1\u001b[39m):\n\u001b[0;32m--> 818\u001b[0m         fsim[k] \u001b[38;5;241m=\u001b[39m \u001b[43mfunc\u001b[49m\u001b[43m(\u001b[49m\u001b[43msim\u001b[49m\u001b[43m[\u001b[49m\u001b[43mk\u001b[49m\u001b[43m]\u001b[49m\u001b[43m)\u001b[49m\n\u001b[1;32m    819\u001b[0m \u001b[38;5;28;01mexcept\u001b[39;00m _MaxFuncCallError:\n\u001b[1;32m    820\u001b[0m     \u001b[38;5;28;01mpass\u001b[39;00m\n",
      "File \u001b[0;32m/Library/Frameworks/Python.framework/Versions/3.12/lib/python3.12/site-packages/scipy/optimize/_optimize.py:526\u001b[0m, in \u001b[0;36m_wrap_scalar_function_maxfun_validation.<locals>.function_wrapper\u001b[0;34m(x, *wrapper_args)\u001b[0m\n\u001b[1;32m    524\u001b[0m ncalls[\u001b[38;5;241m0\u001b[39m] \u001b[38;5;241m+\u001b[39m\u001b[38;5;241m=\u001b[39m \u001b[38;5;241m1\u001b[39m\n\u001b[1;32m    525\u001b[0m \u001b[38;5;66;03m# A copy of x is sent to the user function (gh13740)\u001b[39;00m\n\u001b[0;32m--> 526\u001b[0m fx \u001b[38;5;241m=\u001b[39m \u001b[43mfunction\u001b[49m\u001b[43m(\u001b[49m\u001b[43mnp\u001b[49m\u001b[38;5;241;43m.\u001b[39;49m\u001b[43mcopy\u001b[49m\u001b[43m(\u001b[49m\u001b[43mx\u001b[49m\u001b[43m)\u001b[49m\u001b[43m,\u001b[49m\u001b[43m \u001b[49m\u001b[38;5;241;43m*\u001b[39;49m\u001b[43m(\u001b[49m\u001b[43mwrapper_args\u001b[49m\u001b[43m \u001b[49m\u001b[38;5;241;43m+\u001b[39;49m\u001b[43m \u001b[49m\u001b[43margs\u001b[49m\u001b[43m)\u001b[49m\u001b[43m)\u001b[49m\n\u001b[1;32m    527\u001b[0m \u001b[38;5;66;03m# Ideally, we'd like to a have a true scalar returned from f(x). For\u001b[39;00m\n\u001b[1;32m    528\u001b[0m \u001b[38;5;66;03m# backwards-compatibility, also allow np.array([1.3]),\u001b[39;00m\n\u001b[1;32m    529\u001b[0m \u001b[38;5;66;03m# np.array([[1.3]]) etc.\u001b[39;00m\n\u001b[1;32m    530\u001b[0m \u001b[38;5;28;01mif\u001b[39;00m \u001b[38;5;129;01mnot\u001b[39;00m np\u001b[38;5;241m.\u001b[39misscalar(fx):\n",
      "Cell \u001b[0;32mIn[3], line 9\u001b[0m, in \u001b[0;36mfunc\u001b[0;34m(x)\u001b[0m\n\u001b[1;32m      7\u001b[0m rf_phase, rf_length, rf_grad \u001b[38;5;241m=\u001b[39m x\n\u001b[1;32m      8\u001b[0m drift_to_start \u001b[38;5;241m=\u001b[39m drift_length\u001b[38;5;241m-\u001b[39mrf_length\u001b[38;5;241m/\u001b[39m\u001b[38;5;241m2\u001b[39m\n\u001b[0;32m----> 9\u001b[0m post_drift \u001b[38;5;241m=\u001b[39m recenter_t(z_prop(\u001b[43mno_transverse\u001b[49m, drift_to_start))\n\u001b[1;32m     10\u001b[0m post_cavity \u001b[38;5;241m=\u001b[39m run_g4beam(post_drift, \u001b[38;5;124m\"\u001b[39m\u001b[38;5;124mG4_RFCavity.g4bl\u001b[39m\u001b[38;5;124m\"\u001b[39m, RF_length\u001b[38;5;241m=\u001b[39mrf_length, frfcool\u001b[38;5;241m=\u001b[39mrf_freq, ficool\u001b[38;5;241m=\u001b[39mrf_phase, Vrfcool\u001b[38;5;241m=\u001b[39mrf_grad, nparticles\u001b[38;5;241m=\u001b[39m\u001b[38;5;28mlen\u001b[39m(no_transverse))\n\u001b[1;32m     11\u001b[0m pre_w2 \u001b[38;5;241m=\u001b[39m recombine_transverse(post_cavity, reverse_transverse)\n",
      "\u001b[0;31mNameError\u001b[0m: name 'no_transverse' is not defined"
     ]
    }
   ],
   "source": [
    "drift_length = 16000\n",
    "rf_freq = 0.025\n",
    "\n",
    "start = time.time()\n",
    "# Function to optimize\n",
    "def func(x):\n",
    "    rf_phase, rf_length, rf_grad = x\n",
    "    drift_to_start = drift_length-rf_length/2\n",
    "    post_drift = recenter_t(z_prop(no_transverse, drift_to_start))\n",
    "    post_cavity = run_g4beam(post_drift, \"G4_RFCavity.g4bl\", RF_length=rf_length, frfcool=rf_freq, ficool=rf_phase, Vrfcool=rf_grad, nparticles=len(no_transverse))\n",
    "    pre_w2 = recombine_transverse(post_cavity, reverse_transverse)\n",
    "    return np.std(p_total(cut_pz(pre_w2)))\n",
    "\n",
    "# Run optimization\n",
    "optim_result = minimize(func, [0, 4700, 7], method=\"Nelder-Mead\", bounds=((-90, 90), (2000, 6000), (1, 10)), options=dict(fatol=1e-6))\n",
    "\n",
    "# Get results\n",
    "rf_phase, rf_length, rf_grad = optim_result.x\n",
    "print(f\"Phase = {rf_phase:.2f} deg\\nLength = {rf_length:.0f} mm\\nGradient = {rf_grad:.2f} MV/m\\nFrequency = {rf_freq*1000:.1f} MHz\")\n",
    "print(\"Time spent:\", time.time()-start)\n",
    "\n",
    "# Runs a single case with the optimal parameters and add the transverse back in\n",
    "drift_to_start = drift_length-rf_length/2\n",
    "post_drift = recenter_t(z_prop(no_transverse, drift_to_start))\n",
    "post_cavity = cut_pz(recenter_t(run_g4beam(post_drift, \"G4_RFCavity.g4bl\", RF_length=rf_length, frfcool=rf_freq, ficool=rf_phase, Vrfcool=rf_grad)))\n",
    "pre_w2 = recombine_transverse(post_cavity, reverse_transverse)\n",
    "print_all_params(pre_w2)"
   ]
  }
 ],
 "metadata": {
  "kernelspec": {
   "display_name": "Python 3",
   "language": "python",
   "name": "python3"
  },
  "language_info": {
   "codemirror_mode": {
    "name": "ipython",
    "version": 3
   },
   "file_extension": ".py",
   "mimetype": "text/x-python",
   "name": "python",
   "nbconvert_exporter": "python",
   "pygments_lexer": "ipython3",
   "version": "3.12.3"
  }
 },
 "nbformat": 4,
 "nbformat_minor": 2
}
